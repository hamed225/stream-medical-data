{
 "cells": [
  {
   "cell_type": "code",
   "execution_count": 1,
   "metadata": {},
   "outputs": [
    {
     "name": "stdout",
     "output_type": "stream",
     "text": [
      "Producing message @ 2022-08-16 02:18:51.506072 | Message = {\"id\":186,\"first_name\":\"Thomasina\",\"last_name\":\"Lathom\",\"email\":\"tlathom55@mysql.com\",\"city\":\"Tr\\u00eas Passos\",\"disease\":\"Open fracture of vault of skull with other and unspecified intracranial hemorrhage, with brief [less than one hour] loss of consciousness\",\"gender_1\":0,\"cholesterol_2\":0,\"cholesterol_3\":0,\"gluc_2\":0,\"gluc_3\":0,\"smoke_1\":0,\"alco_1\":0,\"active_1\":1,\"bmicat_2.0\":1,\"bmicat_3.0\":0,\"bmicat_4.0\":0,\"bmicat_5.0\":0,\"agecat_3.0\":0,\"agecat_4.0\":1,\"agecat_5.0\":0,\"agecat_6.0\":0,\"agecat_7.0\":0,\"hyper_tension_gr_2\":0,\"hyper_tension_gr_3\":0,\"target\":0}\n"
     ]
    },
    {
     "ename": "KeyboardInterrupt",
     "evalue": "",
     "output_type": "error",
     "traceback": [
      "\u001b[0;31m---------------------------------------------------------------------------\u001b[0m",
      "\u001b[0;31mKeyboardInterrupt\u001b[0m                         Traceback (most recent call last)",
      "\u001b[1;32m/home/izzet/Desktop/stream-medical-data/experimental.ipynb Cell 1\u001b[0m in \u001b[0;36m<cell line: 17>\u001b[0;34m()\u001b[0m\n\u001b[1;32m     <a href='vscode-notebook-cell:/home/izzet/Desktop/stream-medical-data/experimental.ipynb#W3sZmlsZQ%3D%3D?line=26'>27</a>\u001b[0m \u001b[39m# Sleep for a random number of seconds\u001b[39;00m\n\u001b[1;32m     <a href='vscode-notebook-cell:/home/izzet/Desktop/stream-medical-data/experimental.ipynb#W3sZmlsZQ%3D%3D?line=27'>28</a>\u001b[0m time_to_sleep \u001b[39m=\u001b[39m random\u001b[39m.\u001b[39mrandint(\u001b[39m1\u001b[39m, \u001b[39m100\u001b[39m)\n\u001b[0;32m---> <a href='vscode-notebook-cell:/home/izzet/Desktop/stream-medical-data/experimental.ipynb#W3sZmlsZQ%3D%3D?line=28'>29</a>\u001b[0m time\u001b[39m.\u001b[39;49msleep(time_to_sleep)\n",
      "\u001b[0;31mKeyboardInterrupt\u001b[0m: "
     ]
    }
   ],
   "source": [
    "import time \n",
    "import json \n",
    "import random \n",
    "from datetime import datetime\n",
    "from  data_generator  import data_creator\n",
    "from kafka import KafkaProducer\n",
    "\n",
    "def serializer(message):\n",
    "    return json.dumps(message).encode('utf-8')\n",
    "\n",
    "# Kafka Producer\n",
    "producer = KafkaProducer(\n",
    "    bootstrap_servers=['localhost:9092'],\n",
    "    value_serializer=serializer,\n",
    "    acks = \"all\")\n",
    "\n",
    "if __name__ == '__main__':\n",
    "    # Infinite loop - runs until you kill the program\n",
    "    while True:\n",
    "        # Generate a message\n",
    "        dummy_message = data_creator()\n",
    "        \n",
    "        # Send it to our 'messages' topic\n",
    "        print(f'Producing message @ {datetime.now()} | Message = {str(dummy_message)}')\n",
    "        producer.send('Heart_Failure_Project', dummy_message)\n",
    "        \n",
    "        # Sleep for a random number of seconds\n",
    "        time_to_sleep = random.randint(1, 100)\n",
    "        time.sleep(time_to_sleep)"
   ]
  },
  {
   "cell_type": "code",
   "execution_count": 14,
   "metadata": {},
   "outputs": [],
   "source": [
    "import pandas as pd\n",
    "import numpy as np\n",
    "demographic_info = pd.read_csv(\"/home/izzet/Desktop/stream-medical-data/MOCK_DATA.csv\")\n",
    "(demographic_info.iloc[np.random.randint(demographic_info.shape[0])].to_json(\"/home/izzet/Desktop/stream-medical-data/MOCK_DATA.json\"))"
   ]
  },
  {
   "cell_type": "code",
   "execution_count": 11,
   "metadata": {},
   "outputs": [
    {
     "ename": "TypeError",
     "evalue": "the JSON object must be str, bytes or bytearray, not dict",
     "output_type": "error",
     "traceback": [
      "\u001b[0;31m---------------------------------------------------------------------------\u001b[0m",
      "\u001b[0;31mTypeError\u001b[0m                                 Traceback (most recent call last)",
      "\u001b[1;32m/home/izzet/Desktop/stream-medical-data/experimental.ipynb Cell 3\u001b[0m in \u001b[0;36m<cell line: 4>\u001b[0;34m()\u001b[0m\n\u001b[1;32m      <a href='vscode-notebook-cell:/home/izzet/Desktop/stream-medical-data/experimental.ipynb#W5sZmlsZQ%3D%3D?line=1'>2</a>\u001b[0m json1 \u001b[39m=\u001b[39m {\u001b[39m\"\u001b[39m\u001b[39mgender_1\u001b[39m\u001b[39m\"\u001b[39m:\u001b[39m0\u001b[39m,\u001b[39m\"\u001b[39m\u001b[39mcholesterol_2\u001b[39m\u001b[39m\"\u001b[39m:\u001b[39m1\u001b[39m,\u001b[39m\"\u001b[39m\u001b[39mcholesterol_3\u001b[39m\u001b[39m\"\u001b[39m:\u001b[39m0\u001b[39m,\u001b[39m\"\u001b[39m\u001b[39mgluc_2\u001b[39m\u001b[39m\"\u001b[39m:\u001b[39m0\u001b[39m,\u001b[39m\"\u001b[39m\u001b[39mgluc_3\u001b[39m\u001b[39m\"\u001b[39m:\u001b[39m0\u001b[39m,\u001b[39m\"\u001b[39m\u001b[39msmoke_1\u001b[39m\u001b[39m\"\u001b[39m:\u001b[39m0\u001b[39m,\u001b[39m\"\u001b[39m\u001b[39malco_1\u001b[39m\u001b[39m\"\u001b[39m:\u001b[39m0\u001b[39m,\u001b[39m\"\u001b[39m\u001b[39mactive_1\u001b[39m\u001b[39m\"\u001b[39m:\u001b[39m1\u001b[39m,\u001b[39m\"\u001b[39m\u001b[39mbmicat_2.0\u001b[39m\u001b[39m\"\u001b[39m:\u001b[39m0\u001b[39m,\u001b[39m\"\u001b[39m\u001b[39mbmicat_3.0\u001b[39m\u001b[39m\"\u001b[39m:\u001b[39m0\u001b[39m,\u001b[39m\"\u001b[39m\u001b[39mbmicat_4.0\u001b[39m\u001b[39m\"\u001b[39m:\u001b[39m1\u001b[39m,\u001b[39m\"\u001b[39m\u001b[39mbmicat_5.0\u001b[39m\u001b[39m\"\u001b[39m:\u001b[39m0\u001b[39m,\u001b[39m\"\u001b[39m\u001b[39magecat_3.0\u001b[39m\u001b[39m\"\u001b[39m:\u001b[39m0\u001b[39m,\u001b[39m\"\u001b[39m\u001b[39magecat_4.0\u001b[39m\u001b[39m\"\u001b[39m:\u001b[39m0\u001b[39m,\u001b[39m\"\u001b[39m\u001b[39magecat_5.0\u001b[39m\u001b[39m\"\u001b[39m:\u001b[39m0\u001b[39m,\u001b[39m\"\u001b[39m\u001b[39magecat_6.0\u001b[39m\u001b[39m\"\u001b[39m:\u001b[39m0\u001b[39m,\u001b[39m\"\u001b[39m\u001b[39magecat_7.0\u001b[39m\u001b[39m\"\u001b[39m:\u001b[39m1\u001b[39m,\u001b[39m\"\u001b[39m\u001b[39mhyper_tension_gr_2\u001b[39m\u001b[39m\"\u001b[39m:\u001b[39m1\u001b[39m,\u001b[39m\"\u001b[39m\u001b[39mhyper_tension_gr_3\u001b[39m\u001b[39m\"\u001b[39m:\u001b[39m0\u001b[39m,\u001b[39m\"\u001b[39m\u001b[39mtarget\u001b[39m\u001b[39m\"\u001b[39m:\u001b[39m1\u001b[39m}\n\u001b[1;32m      <a href='vscode-notebook-cell:/home/izzet/Desktop/stream-medical-data/experimental.ipynb#W5sZmlsZQ%3D%3D?line=2'>3</a>\u001b[0m json2 \u001b[39m=\u001b[39m {\u001b[39m\"\u001b[39m\u001b[39mid\u001b[39m\u001b[39m\"\u001b[39m:\u001b[39m13\u001b[39m,\u001b[39m\"\u001b[39m\u001b[39mfirst_name\u001b[39m\u001b[39m\"\u001b[39m:\u001b[39m\"\u001b[39m\u001b[39mEffie\u001b[39m\u001b[39m\"\u001b[39m,\u001b[39m\"\u001b[39m\u001b[39mlast_name\u001b[39m\u001b[39m\"\u001b[39m:\u001b[39m\"\u001b[39m\u001b[39mDumphry\u001b[39m\u001b[39m\"\u001b[39m,\u001b[39m\"\u001b[39m\u001b[39memail\u001b[39m\u001b[39m\"\u001b[39m:\u001b[39m\"\u001b[39m\u001b[39medumphryc@mozilla.com\u001b[39m\u001b[39m\"\u001b[39m,\u001b[39m\"\u001b[39m\u001b[39mcity\u001b[39m\u001b[39m\"\u001b[39m:\u001b[39m\"\u001b[39m\u001b[39mBan Mai\u001b[39m\u001b[39m\"\u001b[39m,\u001b[39m\"\u001b[39m\u001b[39mdisease\u001b[39m\u001b[39m\"\u001b[39m:\u001b[39m\"\u001b[39m\u001b[39mAccidental poisoning by petroleum solvents\u001b[39m\u001b[39m\"\u001b[39m}\n\u001b[0;32m----> <a href='vscode-notebook-cell:/home/izzet/Desktop/stream-medical-data/experimental.ipynb#W5sZmlsZQ%3D%3D?line=3'>4</a>\u001b[0m a \u001b[39m=\u001b[39m json\u001b[39m.\u001b[39;49mloads(json1)\n\u001b[1;32m      <a href='vscode-notebook-cell:/home/izzet/Desktop/stream-medical-data/experimental.ipynb#W5sZmlsZQ%3D%3D?line=4'>5</a>\u001b[0m b \u001b[39m=\u001b[39m json\u001b[39m.\u001b[39mloads(json2)\n",
      "File \u001b[0;32m~/anaconda3/envs/datascience/lib/python3.9/json/__init__.py:339\u001b[0m, in \u001b[0;36mloads\u001b[0;34m(s, cls, object_hook, parse_float, parse_int, parse_constant, object_pairs_hook, **kw)\u001b[0m\n\u001b[1;32m    337\u001b[0m \u001b[39melse\u001b[39;00m:\n\u001b[1;32m    338\u001b[0m     \u001b[39mif\u001b[39;00m \u001b[39mnot\u001b[39;00m \u001b[39misinstance\u001b[39m(s, (\u001b[39mbytes\u001b[39m, \u001b[39mbytearray\u001b[39m)):\n\u001b[0;32m--> 339\u001b[0m         \u001b[39mraise\u001b[39;00m \u001b[39mTypeError\u001b[39;00m(\u001b[39mf\u001b[39m\u001b[39m'\u001b[39m\u001b[39mthe JSON object must be str, bytes or bytearray, \u001b[39m\u001b[39m'\u001b[39m\n\u001b[1;32m    340\u001b[0m                         \u001b[39mf\u001b[39m\u001b[39m'\u001b[39m\u001b[39mnot \u001b[39m\u001b[39m{\u001b[39;00ms\u001b[39m.\u001b[39m\u001b[39m__class__\u001b[39m\u001b[39m.\u001b[39m\u001b[39m__name__\u001b[39m\u001b[39m}\u001b[39;00m\u001b[39m'\u001b[39m)\n\u001b[1;32m    341\u001b[0m     s \u001b[39m=\u001b[39m s\u001b[39m.\u001b[39mdecode(detect_encoding(s), \u001b[39m'\u001b[39m\u001b[39msurrogatepass\u001b[39m\u001b[39m'\u001b[39m)\n\u001b[1;32m    343\u001b[0m \u001b[39mif\u001b[39;00m (\u001b[39mcls\u001b[39m \u001b[39mis\u001b[39;00m \u001b[39mNone\u001b[39;00m \u001b[39mand\u001b[39;00m object_hook \u001b[39mis\u001b[39;00m \u001b[39mNone\u001b[39;00m \u001b[39mand\u001b[39;00m\n\u001b[1;32m    344\u001b[0m         parse_int \u001b[39mis\u001b[39;00m \u001b[39mNone\u001b[39;00m \u001b[39mand\u001b[39;00m parse_float \u001b[39mis\u001b[39;00m \u001b[39mNone\u001b[39;00m \u001b[39mand\u001b[39;00m\n\u001b[1;32m    345\u001b[0m         parse_constant \u001b[39mis\u001b[39;00m \u001b[39mNone\u001b[39;00m \u001b[39mand\u001b[39;00m object_pairs_hook \u001b[39mis\u001b[39;00m \u001b[39mNone\u001b[39;00m \u001b[39mand\u001b[39;00m \u001b[39mnot\u001b[39;00m kw):\n",
      "\u001b[0;31mTypeError\u001b[0m: the JSON object must be str, bytes or bytearray, not dict"
     ]
    }
   ],
   "source": [
    "import json\n",
    "json1 = {\"gender_1\":0,\"cholesterol_2\":1,\"cholesterol_3\":0,\"gluc_2\":0,\"gluc_3\":0,\"smoke_1\":0,\"alco_1\":0,\"active_1\":1,\"bmicat_2.0\":0,\"bmicat_3.0\":0,\"bmicat_4.0\":1,\"bmicat_5.0\":0,\"agecat_3.0\":0,\"agecat_4.0\":0,\"agecat_5.0\":0,\"agecat_6.0\":0,\"agecat_7.0\":1,\"hyper_tension_gr_2\":1,\"hyper_tension_gr_3\":0,\"target\":1}\n",
    "json2 = {\"id\":13,\"first_name\":\"Effie\",\"last_name\":\"Dumphry\",\"email\":\"edumphryc@mozilla.com\",\"city\":\"Ban Mai\",\"disease\":\"Accidental poisoning by petroleum solvents\"}\n",
    "a = json.loads(json1)\n",
    "b = json.loads(json2)\n",
    "\n"
   ]
  },
  {
   "cell_type": "code",
   "execution_count": 26,
   "metadata": {},
   "outputs": [
    {
     "name": "stdout",
     "output_type": "stream",
     "text": [
      "{\"id\":244,\"first_name\":\"Hannie\",\"last_name\":\"Studman\",\"email\":\"hstudman6r@dailymail.co.uk\",\"city\":\"Imaan\",\"disease\":\"Unspecified disorder of amino-acid metabolism\",\"gender_1\":1,\"cholesterol_2\":0,\"cholesterol_3\":0,\"gluc_2\":0,\"gluc_3\":0,\"smoke_1\":0,\"alco_1\":0,\"active_1\":1,\"bmicat_2.0\":1,\"bmicat_3.0\":0,\"bmicat_4.0\":0,\"bmicat_5.0\":0,\"agecat_3.0\":0,\"agecat_4.0\":0,\"agecat_5.0\":0,\"agecat_6.0\":0,\"agecat_7.0\":1,\"hyper_tension_gr_2\":0,\"hyper_tension_gr_3\":0,\"target\":0}\n"
     ]
    }
   ],
   "source": [
    "import pandas as pd\n",
    "import numpy as np\n",
    "\n",
    "df = pd.read_csv(\"/home/izzet/Desktop/stream-medical-data/all_preprocessed_data.csv\")\n",
    "\n",
    "def data_creator():\n",
    "    main = df.iloc[np.random.randint(0,df.shape[0])]\n",
    "    demographic = demographic_info.iloc[np.random.randint(demographic_info.shape[0])]\n",
    "    return pd.concat([demographic,main],axis=0).to_json()\n",
    "\n",
    "\n",
    "\n",
    "for i in range(1):\n",
    "    if __name__ == '__main__':\n",
    "         print(data_creator())"
   ]
  },
  {
   "cell_type": "code",
   "execution_count": null,
   "metadata": {},
   "outputs": [],
   "source": []
  }
 ],
 "metadata": {
  "kernelspec": {
   "display_name": "Python 3.9.13 ('datascience')",
   "language": "python",
   "name": "python3"
  },
  "language_info": {
   "codemirror_mode": {
    "name": "ipython",
    "version": 3
   },
   "file_extension": ".py",
   "mimetype": "text/x-python",
   "name": "python",
   "nbconvert_exporter": "python",
   "pygments_lexer": "ipython3",
   "version": "3.9.13"
  },
  "orig_nbformat": 4,
  "vscode": {
   "interpreter": {
    "hash": "d5e3d835a3425d0426acedd99e77a951ca3551842067eb24f0bf8de3598cac8b"
   }
  }
 },
 "nbformat": 4,
 "nbformat_minor": 2
}
