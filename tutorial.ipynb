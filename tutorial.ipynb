{
 "cells": [
  {
   "cell_type": "markdown",
   "metadata": {},
   "source": [
    "# Prediction on streaming medical data"
   ]
  },
  {
   "cell_type": "markdown",
   "metadata": {},
   "source": [
    "Requirements:\n",
    "kafka==1.3.5\n",
    "kafka_python==2.0.2\n",
    "numpy==1.19.5\n",
    "pandas==1.4.3\n",
    "pycaret==2.3.10\n",
    "pymongo==3.12.0\n"
   ]
  },
  {
   "cell_type": "markdown",
   "metadata": {},
   "source": [
    "This project is about instant analysis of stream data.\n",
    "\n",
    "The existence of this project is thanks to the pycaret library. I think it is an unusual project.\n",
    "\n",
    "First, I used a dataset with 70K samples. You can also access this dataset via kaggle.\n",
    "\n",
    "Kaggle: https://www.kaggle.com/datasets/sulianova/cardiovascular-disease-dataset\n",
    "\n",
    "An imbalanced data compatible with real life, the performance of many improved models is around 70%.\n",
    "\n",
    "Using the classifier of the pycaret library, I reached the highest result with the gradientboosting algorithm, and this had an accuracy of around 70% as you can see on kaggle.\n",
    "\n",
    "After this process, I optimized the model with pycaret and saved it."
   ]
  },
  {
   "cell_type": "markdown",
   "metadata": {},
   "source": [
    "<img src=\"/home/izzet/Desktop/stream-medical-data/Screenshot from 2022-08-16 11-50-09.png\" />"
   ]
  },
  {
   "cell_type": "markdown",
   "metadata": {},
   "source": [
    "### I opened a new topic with Kafdrop on Docker. "
   ]
  },
  {
   "cell_type": "markdown",
   "metadata": {},
   "source": [
    "<img src=\"/home/izzet/Desktop/stream-medical-data/Screenshot from 2022-08-16 12-03-59.png\"/>\n"
   ]
  },
  {
   "cell_type": "markdown",
   "metadata": {},
   "source": [
    "### Then I set up a data_generator that selects random data from the data I reserved for testing. From here, I created a kafka_producer that can send data at random times. I then collected the data I streamed with Kafka_producer with Kafka_consumer. I instantly predicted the data read by Kafka_consumer with the saved model. I was able to collect the last data and transfer it to mongoDB thanks to the pymongo library."
   ]
  },
  {
   "cell_type": "markdown",
   "metadata": {},
   "source": [
    "### Some tricks about pymongo\n",
    "\n",
    "* 1 - we connect to mongoDB with pymongo via link provided via mongoDB\n",
    "* 2 - In the meantime, it is important to give the ip address of your local computer.\n",
    "* 3 - This video is very helpful to understand the topic: https://youtu.be/GJCKIGeK3qc"
   ]
  },
  {
   "cell_type": "markdown",
   "metadata": {},
   "source": [
    "<img src=\"/home/izzet/Desktop/stream-medical-data/Screenshot from 2022-08-16 12-15-53.png\"/>"
   ]
  },
  {
   "cell_type": "markdown",
   "metadata": {},
   "source": [
    "<img src=\"/home/izzet/Desktop/stream-medical-data/Screenshot from 2022-08-16 12-16-05.png\">"
   ]
  },
  {
   "cell_type": "markdown",
   "metadata": {},
   "source": [
    "<img src= \"/home/izzet/Desktop/stream-medical-data/Screenshot from 2022-08-16 12-16-15.png\">"
   ]
  },
  {
   "cell_type": "markdown",
   "metadata": {},
   "source": [
    "<img src= \"/home/izzet/Desktop/stream-medical-data/Screenshot from 2022-08-16 13-00-37.png\">"
   ]
  },
  {
   "cell_type": "markdown",
   "metadata": {},
   "source": [
    "# Then you can update your model by getting the data collected in mongoDB.\n",
    "\n",
    "you can review with pymongo_extractor.ipynb\n",
    "\n",
    "Even for 1354 patients, it has an accuracy of around 70%."
   ]
  }
 ],
 "metadata": {
  "kernelspec": {
   "display_name": "Python 3.9.13 ('datascience')",
   "language": "python",
   "name": "python3"
  },
  "language_info": {
   "codemirror_mode": {
    "name": "ipython",
    "version": 3
   },
   "file_extension": ".py",
   "mimetype": "text/x-python",
   "name": "python",
   "nbconvert_exporter": "python",
   "pygments_lexer": "ipython3",
   "version": "3.9.13"
  },
  "orig_nbformat": 4,
  "vscode": {
   "interpreter": {
    "hash": "d5e3d835a3425d0426acedd99e77a951ca3551842067eb24f0bf8de3598cac8b"
   }
  }
 },
 "nbformat": 4,
 "nbformat_minor": 2
}
